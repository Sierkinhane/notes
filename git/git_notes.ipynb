{
 "cells": [
  {
   "cell_type": "markdown",
   "metadata": {},
   "source": [
    "## 版本库\n",
    "        什么是版本库呢？版本库又名仓库，英文名repository，你可以简单理解成一个目录，这个目录里面的所有文件都可以被Git管理起来，每个文件的修改、删除，Git都能跟踪，以便任何时刻都可以追踪历史，或者在将来某个时刻可以“还原”。\n",
    "        1. 把这个目录变成Git可以管理的仓库：\n",
    "        git init \n",
    "        \n",
    "        首先这里再明确一下，所有的版本控制系统，其实只能跟踪文本文件的改动，比如TXT文件，网页，所有的程序代码等等，Git也不例外。\n",
    "        \n",
    "        2. 把文件添加到仓库：\n",
    "        \n",
    "        git add readme.txt\n",
    "        \n",
    "        3. 用命令git commit告诉Git，把文件提交到仓库：\n",
    "        \n",
    "        git commit -m \"wrote a readme file\"\n",
    "        \n",
    "## 远程仓库\n",
    "        由于你的本地Git仓库和GitHub仓库之间的传输是通过SSH加密的，所以，需要一点设置：\n",
    "        第1步：创建SSH Key。在用户主目录下，看看有没有.ssh目录，如果有，再看看这个目录下有没有id_rsa和id_rsa.pub这两个文件，如果已经有了，可直接跳到下一步。如果没有，打开Shell（Windows下打开Git Bash），创建SSH Key：\n",
    "        \n",
    "        ssh-keygen -t rsa -C \"youremail@example.com\"\n",
    "        \n",
    "        你需要把邮件地址换成你自己的邮件地址，然后一路回车，使用默认值即可，由于这个Key也不是用于军事目的，所以也无需设置密码。如果一切顺利的话，可以在用户主目录里找到.ssh目录，里面有id_rsa和id_rsa.pub两个文件，这两个就是SSH Key的秘钥对，id_rsa是私钥，不能泄露出去，id_rsa.pub是公钥，可以放心地告诉任何人。\n",
    "        第2步：登陆GitHub，打开“Account settings”，“SSH Keys”页面：然后，点“Add SSH Key”，填上任意Title，在Key文本框里粘贴id_rsa.pub文件的内容，点“Add Key”，你就应该看到已经添加的Key。为什么GitHub需要SSH Key呢？因为GitHub需要识别出你推送的提交确实是你推送的，而不是别人冒充的，而Git支持SSH协议，所以，GitHub只要知道了你的公钥，就可以确认只有你自己才能推送。当然，GitHub允许你添加多个Key。假定你有若干电脑，你一会儿在公司提交，一会儿在家里提交，只要把每台电脑的Key都添加到GitHub，就可以在每台电脑上往GitHub推送了。\n",
    "        将本地仓库推送至Github仓库\n",
    "        \n",
    "        git remote add origin git@github.com:sierkinhane/learngit.git\n",
    "        \n",
    "        添加后，远程库的名字就是origin，这是Git默认的叫法，也可以改成别的，但是origin这个名字一看就知道是远程库。下一步，就可以把本地库的所有内容推送到远程库上：\n",
    "        \n",
    "         git push -u origin master\n",
    "         \n",
    "         把本地库的内容推送到远程，用git push命令，实际上是把当前分支master推送到远程。由于远程库是空的，我们第一次推送master分支时，加上了-u参数，Git不但会把本地的master分支内容推送的远程新的master分支，还会把本地的master分支和远程的master分支关联起来，在以后的推送或者拉取时就可以简化命令。\n",
    "         从现在起，只要本地作了提交，就可以通过命令：\n",
    "         \n",
    "         git push origin master\n",
    "         \n",
    "         把本地master分支的最新修改推送至GitHub，现在，你就拥有了真正的分布式版本库！\n",
    "         \n",
    "## SSH警告\n",
    "        当你第一次使用Git的clone或者push命令连接GitHub时，会得到一个警告：\n",
    "        \n",
    "        The authenticity of host 'github.com (xx.xx.xx.xx)' can't be established.\n",
    "        RSA key fingerprint is xx.xx.xx.xx.xx.\n",
    "        Are you sure you want to continue connecting (yes/no)?\n",
    "        \n",
    "        这是因为Git使用SSH连接，而SSH连接在第一次验证GitHub服务器的Key时，需要你确认GitHub的Key的指纹信息是否真的来自GitHub的服务器，输入yes回车即可。Git会输出一个警告，告诉你已经把GitHub的Key添加到本机的一个信任列表里了：\n",
    "        \n",
    "        Warning: Permanently added 'github.com' (RSA) to the list of known hosts.\n",
    "\n",
    "        这个警告只会出现一次，后面的操作就不会有任何警告了。如果你实在担心有人冒充GitHub服务器，输入yes前可以对照GitHub的RSA Key的指纹信息是否与SSH连接给出的一致。\n",
    "        \n",
    "## 从远程库克隆\n",
    "        用命令git clone克隆一个本地库：\n",
    "        \n",
    "        git clone https://github.com/Sierkinhane/notes.git\n",
    "        git clone git@github.com:michaelliao/gitskills.git\n",
    "        \n",
    "        如果有多个人协作开发，那么每个人各自从远程克隆一份就可以了。你也许还注意到，GitHub给出的地址不止一个，还可以用https://github.com/michaelliao/gitskills.git\n",
    "        这样的地址。实际上，Git支持多种协议，默认的git://使用ssh，但也可以使用https等其他协议。\n",
    "        使用https除了速度慢以外，还有个最大的麻烦是每次推送都必须输入口令，但是在某些只开放http端口的公司内部就无法使用ssh协议而只能用https。"
   ]
  },
  {
   "cell_type": "markdown",
   "metadata": {},
   "source": [
    "## 错误\n",
    "    To https://amc-msra.visualstudio.com/trading-algo/_git/real-trading\n",
    "     ! [rejected]        master -> dev-gaochao (fetch first)\n",
    "    error: failed to push some refs to 'https://amc-msra.visualstudio.com/trading-algo/_git/real-trading'\n",
    "    hint: Updates were rejected because the remote contains work that you do\n",
    "    hint: not have locally. This is usually caused by another repository pushing\n",
    "    hint: to the same ref. You may want to first integrate the remote changes\n",
    "    hint: (e.g., 'git pull ...') before pushing again.\n",
    "    hint: See the 'Note about fast-forwards' in 'git push --help' for details.\n",
    "    \n",
    "原因\n",
    "之所以出现这个原因，是因为我在线上生成、编辑了README.md文件，而本地代码文件中不包含它，所以线上线下就对不上了。\n",
    "\n",
    "    \n",
    "解决\n",
    "将线上、线下代码进行合并\n",
    "\n",
    "    git pull --rebase origin dev-gaochao\n",
    "然后再进行push\n",
    "\n",
    "    git push origin master:dev-gaochao"
   ]
  },
  {
   "cell_type": "markdown",
   "metadata": {},
   "source": [
    "## 删除远程库"
   ]
  },
  {
   "cell_type": "markdown",
   "metadata": {},
   "source": [
    "    git remote -v\n",
    "    查看当前远程\n",
    "    origin  https://github.com/OWNER/REPOSITORY.git (fetch)\n",
    "    origin  https://github.com/OWNER/REPOSITORY.git (push)\n",
    "    destination  https://github.com/FORKER/REPOSITORY.git (fetch)\n",
    "    destination  https://github.com/FORKER/REPOSITORY.git (push)\n",
    "\n",
    "    git remote rm destination\n",
    "    删除远程\n",
    "    git remote -v\n",
    "    验证其已删除\n",
    "    origin  https://github.com/OWNER/REPOSITORY.git (fetch)\n",
    "    origin  https://github.com/OWNER/REPOSITORY.git (push)"
   ]
  }
 ],
 "metadata": {
  "kernelspec": {
   "display_name": "Python 3",
   "language": "python",
   "name": "python3"
  },
  "language_info": {
   "codemirror_mode": {
    "name": "ipython",
    "version": 3
   },
   "file_extension": ".py",
   "mimetype": "text/x-python",
   "name": "python",
   "nbconvert_exporter": "python",
   "pygments_lexer": "ipython3",
   "version": "3.7.5"
  },
  "toc": {
   "base_numbering": 1,
   "nav_menu": {},
   "number_sections": true,
   "sideBar": true,
   "skip_h1_title": false,
   "title_cell": "Table of Contents",
   "title_sidebar": "Contents",
   "toc_cell": false,
   "toc_position": {},
   "toc_section_display": true,
   "toc_window_display": true
  }
 },
 "nbformat": 4,
 "nbformat_minor": 2
}
