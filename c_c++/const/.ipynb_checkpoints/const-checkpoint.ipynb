{
 "cells": [
  {
   "cell_type": "code",
   "execution_count": 1,
   "metadata": {},
   "outputs": [],
   "source": [
    "#include <iostream>\n",
    "using namespace std;"
   ]
  },
  {
   "cell_type": "markdown",
   "metadata": {},
   "source": [
    "## const约束\n",
    "    const 是 constant 的缩写，意思是“恒定不变的”！它是定义只读变量的关键字，或者说 const 是定义常变量的关键字。用 const 定义常变量的方法很简单，就在通常定义变量时前面加 const 即可，如：\n",
    "    const  double  pi = 3.1415926;\n",
    "    用 const 定义的变量的值是不允许改变的，即不允许给它重新赋值，即使是赋相同的值也不可以。所以说它定义的是只读变量。这也就意味着必须在定义的时候就给它赋初值，如果程序中试图改变它的值，编译的时候就会报错。\n",
    "    gcc中，const是通过编译器在编译的时候执行检查来确保实现的（也就是说const类型的变量不能改是编译错误，不是运行时错误。）所以我们只要想办法骗过编译器，就可以修改const定义的常量，而运行时不会报错。"
   ]
  },
  {
   "cell_type": "markdown",
   "metadata": {},
   "source": [
    "### 声明一个常变量"
   ]
  },
  {
   "cell_type": "code",
   "execution_count": 2,
   "metadata": {},
   "outputs": [],
   "source": [
    "const int a = 10 ; // == int const a;"
   ]
  },
  {
   "cell_type": "markdown",
   "metadata": {},
   "source": [
    "    如果我们给出 const int  a;你应该知道这是将a常量化了，但是为什么呢?那是因为int 和const 都作为一个类型限定词，有相同的地位。所以你也可以写成 int const a;似乎这样更加好理解！当然这都不难，难点在哪里哪？当然此时你如果定义指针也是可以修改的，但是会报警告！当然强制类型转换后警告也不会报了！所以const int a=10; 是申明了一个只可读的变量，如果 a=12;在编译期报错。"
   ]
  },
  {
   "cell_type": "markdown",
   "metadata": {},
   "source": [
    "### 常量指针"
   ]
  },
  {
   "cell_type": "code",
   "execution_count": 3,
   "metadata": {},
   "outputs": [
    {
     "data": {
      "text/plain": [
       "@0x7ffff8a7ec48"
      ]
     },
     "execution_count": 3,
     "metadata": {},
     "output_type": "execute_result"
    }
   ],
   "source": [
    "int const *p;// == const int *p;\n",
    "p = &a;\n",
    "// *p = 11; // error: read-only variable is not assignable\n",
    "int b = 0;\n",
    "p = &b; // ok"
   ]
  },
  {
   "cell_type": "markdown",
   "metadata": {},
   "source": [
    "    该指针指向的变量不可更改，相当于通过*p指针获得了原来实例的可读版本，一般用于子函数调用中形参函数，限制子函数中不能对调用内容进行更改如 const char *src或 char const *src，*p是常量。也就是说，p指向的数据是常量"
   ]
  },
  {
   "cell_type": "markdown",
   "metadata": {},
   "source": [
    "### 声明一个指针常量\n",
    "    该指针只能赋值一次，且只能在定义时初始化，但是指针指向的变量可以改变。"
   ]
  },
  {
   "cell_type": "code",
   "execution_count": 4,
   "metadata": {},
   "outputs": [
    {
     "name": "stdout",
     "output_type": "stream",
     "text": [
      "100\n"
     ]
    },
    {
     "data": {
      "text/plain": [
       "@0x7fa005c24b60"
      ]
     },
     "execution_count": 4,
     "metadata": {},
     "output_type": "execute_result"
    }
   ],
   "source": [
    "int c = 0;\n",
    "int * const p2 = &c;\n",
    "*p2 = 100;\n",
    "cout << c << endl;\n",
    "// p2 = &c; // error: cannot assign to variable 'p2' with const-qualified type 'int *const'"
   ]
  },
  {
   "cell_type": "markdown",
   "metadata": {},
   "source": [
    "### 声明一个指向常量的常指针\n",
    "    常指针变量，指针和指向的变量均不能修改！"
   ]
  },
  {
   "cell_type": "code",
   "execution_count": 5,
   "metadata": {},
   "outputs": [],
   "source": [
    "const int *const p3 = &c;\n",
    "// p3 = &c; // error\n",
    "// *p3 = 110; // error: read-only variable is not assignable"
   ]
  },
  {
   "cell_type": "markdown",
   "metadata": {},
   "source": [
    "### 修饰函数的返回值\n",
    "    如果给以“指针传递”方式的函数返回值加 const 修饰，那么函数返回值（即指针）的内容不能被修改，该返回值只能被赋给加const 修饰的同类型指针。"
   ]
  },
  {
   "cell_type": "code",
   "execution_count": 6,
   "metadata": {},
   "outputs": [
    {
     "name": "stdout",
     "output_type": "stream",
     "text": [
      "a function!\n"
     ]
    }
   ],
   "source": [
    "const char * GetString(){\n",
    "    char s = '0' ;\n",
    "    cout << \"a function!\" << endl;\n",
    "    char *p = &s;\n",
    "    return p;\n",
    "};\n",
    "// char *s = GetString();\n",
    "const char *s = GetString();"
   ]
  },
  {
   "cell_type": "code",
   "execution_count": null,
   "metadata": {},
   "outputs": [],
   "source": []
  }
 ],
 "metadata": {
  "kernelspec": {
   "display_name": "C++11",
   "language": "C++11",
   "name": "xcpp11"
  },
  "language_info": {
   "codemirror_mode": "text/x-c++src",
   "file_extension": ".cpp",
   "mimetype": "text/x-c++src",
   "name": "c++",
   "version": "-std=c++11"
  },
  "toc": {
   "base_numbering": 1,
   "nav_menu": {},
   "number_sections": true,
   "sideBar": true,
   "skip_h1_title": false,
   "title_cell": "Table of Contents",
   "title_sidebar": "Contents",
   "toc_cell": false,
   "toc_position": {},
   "toc_section_display": true,
   "toc_window_display": false
  }
 },
 "nbformat": 4,
 "nbformat_minor": 2
}
