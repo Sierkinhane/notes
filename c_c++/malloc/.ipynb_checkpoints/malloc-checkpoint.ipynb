{
 "cells": [
  {
   "cell_type": "code",
   "execution_count": 1,
   "metadata": {},
   "outputs": [],
   "source": [
    "#include <iostream>\n",
    "#include <stdio.h>\n",
    "#include <stdlib.h>\n",
    "#include <string.h>\n",
    "using namespace std;"
   ]
  },
  {
   "cell_type": "markdown",
   "metadata": {},
   "source": [
    "    在C语言中，编写程序的时候不能确定内存变量应该定义为多大，程序员希望在程序运行的时候根据数据量的大小向系统动态获得内存空间。所谓动态内存管理，就是指在程序执行的过程中动态地申请和回收内存空间。动态内存管理不像变量和数组那样在程序编写时预先分配内存空间，而是根据程序的需要即时分配，而且分配的内存大小就是程序要求的大小。\n",
    "       C语言允许程序动态申请内存，用于存放一些数据，需要时随时开辟，不需要时随时释放。C语言中，内存的动态分配是通过系统提供的库函数来实现的，主要有malloc和free 函数。"
   ]
  },
  {
   "cell_type": "markdown",
   "metadata": {},
   "source": [
    "## 相关库函数\n",
    "### malloc函数\n",
    "        其函数的申明为：\n",
    "              void *malloc(unsigned int size)；\n",
    "       其作用是在内存的动态存储区中分配一个长度为size的连续空间。此函数的返回值是分配区域的起始地址。\n",
    "       例如：\n",
    "       malloc(100)； // 开辟 100 个字节的临时分配域，返回值为其第一个字节的地址\n",
    "       注意地址的基类型为 void，即不指向任何类型的数据，只提供一个地址。如果此函数未能成功的执行（例如内存空间不足），则返回空（NULL，即0）。\n",
    "       程序员需要定义一个指针来指向动态分配的内存地址。\n",
    "       例如：\n",
    "              int *pi=malloc(sizeof(int));\n",
    "### free函数\n",
    "        函数申明为\n",
    "              void free(void *p);\n",
    "       其作用是释放指针 p 所指向的动态空间的地址。p 是调用 malloc 函数时的返回的地址。free函数无返回值。\n",
    "       例如：\n",
    "              free(pi);     // 释放指针变量pi指向的已分配的动态空间"
   ]
  },
  {
   "cell_type": "code",
   "execution_count": 2,
   "metadata": {},
   "outputs": [],
   "source": [
    "struct st_girl{\n",
    "    char name[50];\n",
    "    int age;\n",
    "};"
   ]
  },
  {
   "cell_type": "code",
   "execution_count": 3,
   "metadata": {},
   "outputs": [
    {
     "name": "stdout",
     "output_type": "stream",
     "text": [
      "10\n",
      "20\n",
      "20.5\n",
      "zhuzhu\n",
      "susu 22\n"
     ]
    }
   ],
   "source": [
    "int *pi = (int *)malloc(sizeof(int));\n",
    "long *pl = (long *)malloc(sizeof(long));\n",
    "double *pd = (double *)malloc(sizeof(double));\n",
    "char *pc = (char *)malloc(sizeof(101)); // 分配101个字节的内存，可存放100个字符的字符串\n",
    "// 分配struct st_girl结构体大小的内存\n",
    "struct st_girl *pst = (st_girl *)malloc(sizeof(struct st_girl));\n",
    "\n",
    "*pi = 10; *pl = 20; *pd = 20.5; strcpy(pc, \"zhuzhu\"); \n",
    "strcpy(pst->name, \"susu\");  pst->age = 22;\n",
    "cout << *pi << endl;\n",
    "cout << *pl << endl;\n",
    "cout << *pd << endl;\n",
    "cout << pc << endl;\n",
    "cout << pst->name << \" \" << pst->age << endl;\n",
    "\n",
    "// 释放动态分配的内存\n",
    "free(pi); free(pl); free(pd); free(pc); free(pst);\n",
    "pi=0, pl=0, pd=0, pc=0, pst=0;"
   ]
  },
  {
   "cell_type": "markdown",
   "metadata": {},
   "source": [
    "## 内存被耗尽\n",
    "         在使用动态分配内存技术的时候，分配出来的内存必须及时释放，否则会引起系统内存耗尽，这话说起来简单，好像很容易做到，但是在实际开发中，程序员往往是漏洞百出。\n",
    "         内存问题是C程序员的主要问题之一，程序崩溃是初中级程序员的恶梦。\n",
    "## 野指针\n",
    "         野指针就是无效的指针。与空指针不同，野指针无法通过简单地判断是否为 NULL避免，而只能通过养成良好的编程习惯来尽力减少。\n",
    "### 指针变量未初始化\n",
    "        指针变量刚被创建时不一定会自动成为空指针（与编译器有关），它的缺省值是可能随机的，它会乱指一气。所以，指针变量在创建的同时应当被初始化，要么将指针的值设置为0，要么让它指向合法的内存。\n",
    "        int *pi=0;\n",
    "        或\n",
    "        int i;\n",
    "        int *pi=&I;\n",
    "### 指针释放后未置空\n",
    "        指针在free后不一定会赋值 0（也与编译器有关），便会使人以为是合法的。free只是把指针所指的内存给释放掉，此时指针指向的就是“垃圾”内存。释放后的指针应立即将指针置为0。\n",
    "       free(pi);\n",
    "       pi=0;\n",
    "## 应用经验\n",
    "        在C语言的早期标准中，定义数组必须用常量指明大小，不能用变量。\n",
    "        char str[101];        // 可以这样\n",
    "        int len=101;\n",
    "        char str[len];         // 不可以这样\n",
    "       程序在运行的时候，如果要定义一个字符串存放100个字符，那怎么办，只能通过动态分配内存技术。\n",
    "        char *str=malloc(101);\n",
    "       现在，定义数组可以用变量指明大小，所以就不必为数组动态分配内存了。\n",
    "       还有，C++的string是一个字符串，非常好用，程序员根本不必关心内存的问题。\n",
    "## 链表\n",
    "        链表是C语言的一个经典的数据结构，相当于一个动态的结构体数组，非常巧妙，功能强大，但操作也麻烦，在这里我就不介绍了。\n",
    "      在C++中，容器全完代替了链表的功能，极其好用，程序员也不必关心内存的问题。"
   ]
  },
  {
   "cell_type": "code",
   "execution_count": null,
   "metadata": {},
   "outputs": [],
   "source": []
  }
 ],
 "metadata": {
  "kernelspec": {
   "display_name": "C++11",
   "language": "C++11",
   "name": "xcpp11"
  },
  "language_info": {
   "codemirror_mode": "text/x-c++src",
   "file_extension": ".cpp",
   "mimetype": "text/x-c++src",
   "name": "c++",
   "version": "-std=c++11"
  },
  "toc": {
   "base_numbering": 1,
   "nav_menu": {},
   "number_sections": true,
   "sideBar": true,
   "skip_h1_title": false,
   "title_cell": "Table of Contents",
   "title_sidebar": "Contents",
   "toc_cell": false,
   "toc_position": {},
   "toc_section_display": true,
   "toc_window_display": false
  }
 },
 "nbformat": 4,
 "nbformat_minor": 2
}
