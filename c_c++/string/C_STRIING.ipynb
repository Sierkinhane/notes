{
 "cells": [
  {
   "cell_type": "code",
   "execution_count": 1,
   "metadata": {},
   "outputs": [],
   "source": [
    "#include <stdio.h>\n",
    "#include <iostream>\n",
    "using namespace std;"
   ]
  },
  {
   "cell_type": "markdown",
   "metadata": {},
   "source": [
    "## 字符串概念\n",
    "    \n",
    "    我们可以把字符串储存在char类型的数组中，如果char类型的数组末尾包含一个表示字符串末尾的空字符\\0，则该数组中的内容就构成了一个字符串。\n",
    "    因为字符串需要用\\0结尾，所以在定义字符串的时候，字符数组的长度要预留多一个字节用来存放\\0，\\0就是数字0"
   ]
  },
  {
   "cell_type": "code",
   "execution_count": 2,
   "metadata": {},
   "outputs": [],
   "source": [
    "char strname[21]; // 定义一个最多存放20个英文字符或十个中文的字符串"
   ]
  },
  {
   "cell_type": "markdown",
   "metadata": {},
   "source": [
    "    字符串也可以存放中文和全角的标点符号，一个中文字符占两个字节。char strname[21]用于存放中文的时候，只能存10个汉字。\n",
    "    字符串采用双引号包含起来，如：\"hello\"、\"中华人民共和国\"、\"A\"、\"\"。\n",
    "\n",
    "## 占用内存情况\n",
    "\n",
    "    一个字符占用一字节的内存，字符串定义时数组的大小就是字符串占用内存的大小。"
   ]
  },
  {
   "cell_type": "code",
   "execution_count": 3,
   "metadata": {},
   "outputs": [],
   "source": [
    "char str[21]; // 占用21字节的内存\n",
    "char str2[1024]; // 占用1024字节的内存"
   ]
  },
  {
   "cell_type": "markdown",
   "metadata": {},
   "source": [
    "## 字符串的初始化"
   ]
  },
  {
   "cell_type": "code",
   "execution_count": 4,
   "metadata": {},
   "outputs": [
    {
     "data": {
      "text/plain": [
       "@0x7fffed1d8fa8"
      ]
     },
     "execution_count": 4,
     "metadata": {},
     "output_type": "execute_result"
    }
   ],
   "source": [
    "char strname2[21];\n",
    "// strname2[0] = 0; // 把第一个元素的值初始化为0\n",
    "// 或者\n",
    "memset(strname2,0,sizeof(strname2)); // 把全部的元素置为0，strname[0]=0;不够规范，并且存有隐患，在实际开发中，一般采用memset的函数初始化字符串。"
   ]
  },
  {
   "cell_type": "markdown",
   "metadata": {},
   "source": [
    "## 字符串与指针\n",
    "     在C语言中，数组名是数组无素的首地址，所以在获取字符串的地址的时候，不需要用&取地址。"
   ]
  },
  {
   "cell_type": "code",
   "execution_count": 5,
   "metadata": {},
   "outputs": [
    {
     "name": "stdout",
     "output_type": "stream",
     "text": [
      "hello, c string"
     ]
    }
   ],
   "source": [
    "\n",
    "strcpy(strname2, \"hello, c string\");\n",
    "printf(\"%s\\n\", strname2);\n",
    "std::cout << strname2;"
   ]
  },
  {
   "cell_type": "markdown",
   "metadata": {},
   "source": [
    "## 字符串的结尾标志\n",
    "    字符串的结尾标志是0，如果没有结尾标志的情况我们在数组章节中已介绍过，现在我们介绍结尾标志后面的内容如何处理。"
   ]
  },
  {
   "cell_type": "code",
   "execution_count": 6,
   "metadata": {},
   "outputs": [
    {
     "name": "stdout",
     "output_type": "stream",
     "text": [
      "hello\n"
     ]
    }
   ],
   "source": [
    "strname2[5] = 0;\n",
    "cout << strname2 << endl;"
   ]
  },
  {
   "cell_type": "markdown",
   "metadata": {},
   "source": [
    "    以上代码输出的结果是hello，但是，在内存中的值仍是hello0 c string，后面的c string成了内存中的垃圾值。\n",
    "    不要让字符串的内存中有垃圾值，容易产生意外的后果，我们将在后面的内容中演示，所以字符串的初始化不建议采用把第一个元素的值置为0的方式（strname[0]=0）。\n"
   ]
  },
  {
   "cell_type": "markdown",
   "metadata": {},
   "source": [
    "## 字符串的输出\n",
    "    字符串采用%s输出，可以加格式控制，常用的如下："
   ]
  },
  {
   "cell_type": "code",
   "execution_count": 7,
   "metadata": {},
   "outputs": [],
   "source": [
    "// printf(\"=%10s=\\n\", \"hello\"); // 输出10个字符宽度，右对齐 =     hello=\n",
    "// printf(\"=%-10s=\\n\", \"hello\"); // 输出10个字符宽度，左对齐 =hello     ="
   ]
  },
  {
   "cell_type": "markdown",
   "metadata": {},
   "source": [
    "    如果输出的字符串的长度大于对齐格式中的数字，就按字符串的实际长度输出。"
   ]
  },
  {
   "cell_type": "markdown",
   "metadata": {},
   "source": [
    "## 字符串越界\n",
    "    字符串是字符数组，字符串越界就是数组越界。字符串的越界是初级程序员经常犯的错误之一。"
   ]
  },
  {
   "cell_type": "code",
   "execution_count": 8,
   "metadata": {},
   "outputs": [],
   "source": [
    "memset(strname, 0, sizeof(strname));\n",
    "memset(strname2, 0, sizeof(strname2));\n",
    "\n",
    "// 字符串越界，notebook无结果输出\n",
    "// strcpy(strname, \"真的只能存十个汉字吗？多几个行不行？\");\n",
    "// strcpy(strname2, \"是的，只能十个，多了不行！\");\n",
    "// cout << strname << endl;\n",
    "// cout << strname2 << endl;\n",
    "// char strname3[2][21];\n",
    "// memset(strname3, 0, sizeof(strname3));\n",
    "// strcpy(strname3[0], \"真的只能存十个汉字吗？多几个行不行？\");\n",
    "// strcpy(strname3[1], \"是的，只能十个，多了不行！\");"
   ]
  },
  {
   "cell_type": "markdown",
   "metadata": {},
   "source": [
    "    在C语言中，数组越界肯定是非法的，但非法操作并不一定会出问题，前8行代码的字符串是越界了，但是strname和strname2变量的内存之后的内存空间是未分配的，所以对strname和strname2赋值过长也没关系。后6行代码就不一样了，二维数组的两个变量之间的内存是连续的，第一个元素之后没有多余的空间，所以第一个元素的值就出问题了。\n",
    "    总的来说，在C语言中，非法操作内存不一定会报错，要看运气。\n",
    "    在现实生活中，一个农民把庄稼种到了自家的地盘之外，如果地盘之外的地没有主人，是不会有问题的，但如果有主人，这事就肯定会引起纠纷。"
   ]
  },
  {
   "cell_type": "markdown",
   "metadata": {},
   "source": [
    "## 字符串常用的库函数\n",
    "### 1. 获取字符串的长度(strlen)\n",
    "    size_t strlen(const char* str);\n",
    "    功能：计算字符串长度，不包含\\0\n",
    "    返回值：返回字符串的字符数\n",
    "    strlen 函数计算的是字符串的实际长度，遇到第一个\\0结束。\n",
    "    函数返回值一定是size_t，是无符号的整数，即typedef unsigned int size_t。\n",
    "    如果你只定义字符串没有初始化，结果是不定的，它会从首地址一直找下去，直到遇到\\0停止。"
   ]
  },
  {
   "cell_type": "code",
   "execution_count": 9,
   "metadata": {},
   "outputs": [
    {
     "name": "stdout",
     "output_type": "stream",
     "text": [
      "11\n",
      "9\n",
      "10\n",
      "5\n"
     ]
    }
   ],
   "source": [
    "char name[50];\n",
    "memset(name, 0, sizeof(name));\n",
    "strcpy(name, \"sierkinhane\");\n",
    "cout << strlen(name) << endl;\n",
    "memset(name, 0, sizeof(name));\n",
    "strcpy(name, \"谢金衡\");\n",
    "cout << strlen(name) << endl;\n",
    "//  还有一个注意事项，sizeof返回的是变量所占的内存数，不是实际内容的长度。\n",
    "char buf[10] = \"hello\";\n",
    "cout << sizeof(buf) << endl;\n",
    "cout << strlen(buf) << endl;"
   ]
  },
  {
   "cell_type": "markdown",
   "metadata": {},
   "source": [
    "### 字符串复制或赋值（strcpy）\n",
    "    char *strcpy(char* dest, const char* src);\n",
    "    功 能: 将参数src字符串拷贝至参数dest所指的地址。\n",
    "    返回值: 返回参数dest的字符串起始地址。\n",
    "    复制完字符串后，在dest后追加0。\n",
    "    如果参数dest所指的内存空间不够大，可能会造成缓冲溢出的错误情况。\n",
    "### 字符串复制或赋值（strncpy）\n",
    "    char * strncpy(char* dest,const char* src, const size_t n);\n",
    "    功能：把src前n字符的内容复制到dest中\n",
    "    返回值：dest字符串起始地址。\n",
    "    如果src字符串长度小于n，则拷贝完字符串后，在dest后追加0，直到n个。\n",
    "    如果src的长度大于等于n，就截取src的前n个字符，不会在dest后追加0；\n",
    "    dest必须有足够的空间放置n个字符，否则可能会造成缓冲溢出的错误情况。\n",
    "### 字符串拼接（strncat）\n",
    "    char *strncat (char* dest,const char* src, const size_t n);\n",
    "    功能：将src字符串的前n个字符拼接到dest所指的字符串尾部。\n",
    "    返回值：返回dest字符串的起始地址。\n",
    "    如果n大于等于字符串src的长度，那么将src全部追加到dest的尾部，如果n大于字符串src的长度，只追加src的前n个字符。\n",
    "    strncat会将dest字符串最后的\\0覆盖掉，字符追加完成后，再追加\\0。\n",
    "    dest要有足够的空间来容纳要拼接的字符串，否则可能会造成缓冲溢出的错误情况。\n",
    "### 字符串比较（strcmp、strncmp）\n",
    "    int strcmp(const char *str1, const char *str2 );\n",
    "    功能：比较str1和str2的大小;返回值：相等返回0，str1大于str2返回1，str1小于str2返回-1；\n",
    "    int strncmp(const char *str1,const char *str2 ,const size_t n);\n",
    "    功能：比较str1和str2的大小;返回值：相等返回0，str1大于str2返回1，str1小于str2返回-1；\n",
    "    两个字符串比较的方法是比较字符的ASCII码的大小，从两个字符串的第一个字符开始，如果分不出大小，就比较第二个字符，如果全部的字符都分不出大小，就返回0，表示两个字符串相等。\n",
    "    在实际开发中，程序员一般只关心字符串是否相等，不关心哪个字符串更大或更小。\n",
    "### 字符查找（strchr、strrchr）\n",
    "    char *strchr(const char *s,const int c);\n",
    "    返回一个指向在字符串s中第一个出现c的位置，如果找不到，返回0。\n",
    "    char *strrchr(const char *s,const int c);\n",
    "    返回一个指向在字符串s中最后一个出现c的位置，如果找不到，返回0。\n",
    "### 字符串查找（strstr）\n",
    "    char *strstr(const char* str,const char* substr);\n",
    "    功能：检索子串在字符串中首次出现的位置。\n",
    "    返回值：返回字符串str中第一次出现子串substr的地址；如果没有检索到子串，则返回0。"
   ]
  },
  {
   "cell_type": "code",
   "execution_count": 10,
   "metadata": {},
   "outputs": [],
   "source": [
    "char example[21];"
   ]
  },
  {
   "cell_type": "code",
   "execution_count": 11,
   "metadata": {},
   "outputs": [
    {
     "name": "stdout",
     "output_type": "stream",
     "text": [
      "sier\n",
      "sierkinhane!\n",
      "sierkinhane! hello\n",
      "0\n",
      "0\n",
      "rkinhane! hello\n",
      "ello\n",
      "kinhane! hello\n"
     ]
    }
   ],
   "source": [
    "memset(example, 0, sizeof(example));\n",
    "strncpy(example, \"sierkinhane!\", 4);\n",
    "cout << example << endl;\n",
    "\n",
    "strcat(example, \"kinhane!\");\n",
    "cout << example << endl;\n",
    "\n",
    "strncat(example, \" hello! hi\", 6);\n",
    "cout << example << endl;\n",
    "\n",
    "cout << strcmp(example, \"sierkinhane! hello\") << endl;\n",
    "cout << strncmp(example, \"sier\", 4) << endl;\n",
    "\n",
    "cout << strchr(example, 'r') << endl; // 返回找到的字符的地址\n",
    "cout << strrchr(example, 'e') << endl;\n",
    "\n",
    "cout << strstr(example, \"kinhane!\") << endl;"
   ]
  },
  {
   "cell_type": "markdown",
   "metadata": {},
   "source": [
    "### stncpy函数的坑\n"
   ]
  },
  {
   "cell_type": "code",
   "execution_count": 12,
   "metadata": {},
   "outputs": [
    {
     "name": "stdout",
     "output_type": "stream",
     "text": [
      "sier\n",
      "sierkinhane!\n",
      "sierkinhane!\n"
     ]
    }
   ],
   "source": [
    "memset(example, 0, sizeof(example));\n",
    "strncpy(example, \"sierkinhane!\", 4);\n",
    "cout << example << endl;\n",
    "strcpy(example, \"sierkinhane!\");\n",
    "cout << example << endl;\n",
    "strncpy(example, \"sierkinhane!\", 4);\n",
    "cout << example << endl;"
   ]
  },
  {
   "cell_type": "markdown",
   "metadata": {},
   "source": [
    "    第二段和第六段是相同的代码，却输出了不同的结果，为什么呢？\n",
    "    如果src的长度大于等于n，就截取src的前n个字符，不会在dest后追加0；\n",
    "    我认为这是strncpy函数的缺陷。解决这个问题的方法就是，字符串在每次使用前习惯性的的初始化为0，或重写strncpy函数。\n"
   ]
  },
  {
   "cell_type": "markdown",
   "metadata": {},
   "source": [
    "## 应用经验\n",
    "### 留有余地\n",
    "    字符串的strcpy和strcat函数要求dest参数有足够的空间，否则会造成内存的泄漏，所以在实际开发中，定义字符串的时候，可以大一些，例如姓名，中国人的姓名以两三个汉字为主，最多五个，少数民族可能十几个，外国人的很长，喜欢在自己的名字前加上爷爷的名字和外公的名字，那么我们在定义变量的时候，可以char name[301];存放他祖宗十八代的名字也没有问题。\n",
    " ### 变量初始化\n",
    "     字符串初化的可以避免入坑。\n",
    " ### 重写strcpy和strcat函数\n",
    "     重写strcpy、strncpy、strcat和strncat函数，解决三个问题：\n",
    "       1）变量初始化。\n",
    "       2）内存溢出。\n",
    "       3）修复strncpy的缺陷。\n",
    "### 位置（地址）偏移的用法"
   ]
  },
  {
   "cell_type": "code",
   "execution_count": 13,
   "metadata": {},
   "outputs": [],
   "source": [
    "char s1[50];\n",
    "char s2[50];"
   ]
  },
  {
   "cell_type": "code",
   "execution_count": 14,
   "metadata": {},
   "outputs": [
    {
     "name": "stdout",
     "output_type": "stream",
     "text": [
      "ello! sierkinhane!\n",
      "llo\n"
     ]
    }
   ],
   "source": [
    "memset(s1,0,sizeof(s1));\n",
    "strcpy(s1, \"hello! sierkinhane!\");\n",
    "memset(s2, 0, sizeof(s2));\n",
    "strcpy(s2, s1+1); // 把ello! sierkinhane! 赋给s2\n",
    "cout << s2 << endl;\n",
    "memset(s2, 0, sizeof(s2));\n",
    "strncpy(s2, s1+2, 3); // llo 赋给s2\n",
    "cout << s2 << endl;"
   ]
  }
 ],
 "metadata": {
  "kernelspec": {
   "display_name": "C++11",
   "language": "C++11",
   "name": "xcpp11"
  },
  "language_info": {
   "codemirror_mode": "text/x-c++src",
   "file_extension": ".cpp",
   "mimetype": "text/x-c++src",
   "name": "c++",
   "version": "-std=c++11"
  },
  "toc": {
   "base_numbering": 1,
   "nav_menu": {},
   "number_sections": true,
   "sideBar": true,
   "skip_h1_title": false,
   "title_cell": "Table of Contents",
   "title_sidebar": "Contents",
   "toc_cell": false,
   "toc_position": {
    "height": "calc(100% - 180px)",
    "left": "10px",
    "top": "150px",
    "width": "256px"
   },
   "toc_section_display": true,
   "toc_window_display": false
  }
 },
 "nbformat": 4,
 "nbformat_minor": 2
}
