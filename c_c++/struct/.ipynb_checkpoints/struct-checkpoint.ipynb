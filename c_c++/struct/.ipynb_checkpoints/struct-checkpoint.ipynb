{
 "cells": [
  {
   "cell_type": "code",
   "execution_count": null,
   "metadata": {},
   "outputs": [],
   "source": [
    "#include <iostream>\n",
    "#include <stdio.h>\n",
    "using namespace std;"
   ]
  },
  {
   "cell_type": "markdown",
   "metadata": {},
   "source": [
    "## 结构体的概念       \n",
    "        在C语言中，使用结构体（struct）来存放一组不同类型的数据。结构体的定义:\n",
    "        struct 结构体名{\n",
    "            结构体成员变量1;\n",
    "            结构体成员变量2;\n",
    "            ...\n",
    "        };\n",
    "        结构体是一种集合，它里面包含了多个变量或数组，它们的类型可以相同，也可以不同，每个这样的变量或数组都称为结构体的成员（member）。\n",
    "        结构体成员的定义方式与变量和数组的定义方式相同。\n",
    "        注意大括号}后面的分号;不能少，这是一条完整的语句。\n",
    "        结构体是一种程序员自己定义的数据类型，可以包含多个其他类型的数据，可以包含其他结构体，也可以包含指向自己结构体类型的指针，而通常这种指针的应用是为了实现一些更高级的数据结构如链表和树等。\n",
    "## 结构体变量\n",
    "        结构体是一种程序员自定义的数据类型，是模板，可以用它来定义变量。例如：\n",
    "              struct st_girl queen, princess, waiting, workers;\n",
    "        定义了四个结构体变量，queen王后、princess王妃，waiting宫女和workers杂役。"
   ]
  }
 ],
 "metadata": {
  "kernelspec": {
   "display_name": "C++11",
   "language": "C++11",
   "name": "xcpp11"
  },
  "language_info": {
   "codemirror_mode": "text/x-c++src",
   "file_extension": ".cpp",
   "mimetype": "text/x-c++src",
   "name": "c++",
   "version": "-std=c++11"
  },
  "toc": {
   "base_numbering": 1,
   "nav_menu": {},
   "number_sections": true,
   "sideBar": true,
   "skip_h1_title": false,
   "title_cell": "Table of Contents",
   "title_sidebar": "Contents",
   "toc_cell": false,
   "toc_position": {},
   "toc_section_display": true,
   "toc_window_display": false
  }
 },
 "nbformat": 4,
 "nbformat_minor": 2
}
