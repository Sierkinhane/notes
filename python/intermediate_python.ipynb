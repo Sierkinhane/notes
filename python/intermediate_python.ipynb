{
 "cells": [
  {
   "cell_type": "markdown",
   "metadata": {},
   "source": [
    "## args 和 *kwargs\n",
    "         首先让我告诉你, 其实并不是必须写成*args 和**kwargs。 只有变量前面的 *(星号)才是必须的. 你也可以写成*var 和**vars. 而写成*args 和**kwargs只是一个通俗的命名约定。 那就让我们先看一下*args吧。\n",
    "         *args 和 **kwargs 主要用于函数定义。 你可以将不定数量的参数传递给一个函数。"
   ]
  },
  {
   "cell_type": "code",
   "execution_count": 1,
   "metadata": {},
   "outputs": [
    {
     "name": "stdout",
     "output_type": "stream",
     "text": [
      "first normal arg:  susu\n",
      "another are through *argv:  sierkinhane\n",
      "another are through *argv:  leslie\n",
      "another are through *argv:  gauss\n"
     ]
    }
   ],
   "source": [
    "def test_var_args(arg, *argv):\n",
    "    print(\"first normal arg: \", arg)\n",
    "    for arg in argv:\n",
    "        print(\"another are through *argv: \", arg)\n",
    "\n",
    "test_var_args('susu', 'sierkinhane', 'leslie', 'gauss')"
   ]
  },
  {
   "cell_type": "markdown",
   "metadata": {},
   "source": [
    "        **kwargs 允许你将不定长度的键值对, 作为参数传递给一个函数。 如果你想要在一个函数里处理带名字的参数, 你应该使用**kwargs。"
   ]
  },
  {
   "cell_type": "code",
   "execution_count": 2,
   "metadata": {},
   "outputs": [
    {
     "name": "stdout",
     "output_type": "stream",
     "text": [
      "girl:susu\n",
      "boy:sierkinhane\n"
     ]
    }
   ],
   "source": [
    "def greet_me(**kwargs):\n",
    "    for key, value in kwargs.items():\n",
    "        print(\"{0}:{1}\".format(key, value))\n",
    "\n",
    "greet_me(girl=\"susu\", boy=\"sierkinhane\")"
   ]
  },
  {
   "cell_type": "markdown",
   "metadata": {},
   "source": [
    "        使用 args 和 *kwargs 来调用函数"
   ]
  },
  {
   "cell_type": "code",
   "execution_count": 3,
   "metadata": {},
   "outputs": [
    {
     "name": "stdout",
     "output_type": "stream",
     "text": [
      "one\n",
      "2\n",
      "3\n",
      "susu\n",
      "sierkinhane\n",
      "leslie\n"
     ]
    }
   ],
   "source": [
    "def test_args_kwargs(arg1, arg2, arg3):\n",
    "    print(arg1)\n",
    "    print(arg2)\n",
    "    print(arg3)\n",
    "\n",
    "args = (\"one\", 2, 3)\n",
    "test_args_kwargs(*args)\n",
    "\n",
    "# key与形参变量名相同\n",
    "kwargs = {\"arg1\":\"susu\", \"arg2\":\"sierkinhane\", \"arg3\":\"leslie\"} \n",
    "test_args_kwargs(**kwargs)"
   ]
  },
  {
   "cell_type": "markdown",
   "metadata": {},
   "source": [
    "        标准参数与*args、**kwargs在使用时的顺序\n",
    "        some_func(fargs, *args, **kwargs)"
   ]
  },
  {
   "cell_type": "markdown",
   "metadata": {},
   "source": [
    "### 啥时候使用它们\n",
    "        这还真的要看你的需求而定。\n",
    "        最常见的用例是在写函数装饰器的时候（会在另一章里讨论）。\n",
    "        此外它也可以用来做猴子补丁(monkey patching)。猴子补丁的意思是在程序运行时(runtime)修改某些代码。 打个比方，你有一个类，里面有个叫get_info的函数会调用一个API并返回相应的数据。如果我们想测试它，可以把API调用替换成一些测试数据。例如：\n",
    "        import someclass\n",
    "\n",
    "        def get_info(self, *args):\n",
    "            return \"Test data\"\n",
    "\n",
    "        someclass.get_info = get_info"
   ]
  },
  {
   "cell_type": "markdown",
   "metadata": {},
   "source": [
    "## debugging\n",
    "### 从命令行运行\n",
    "        你可以在命令行使用Python debugger运行一个脚本， 举个例子：\n",
    "        $ python -m pdb my_script.py\n",
    "        这会触发debugger在脚本第一行指令处停止执行。这在脚本很短时会很有帮助。你可以通过(Pdb)模式接着查看变量信息，并且逐行调试"
   ]
  },
  {
   "cell_type": "markdown",
   "metadata": {},
   "source": [
    "### 从脚本内部运行\n",
    "        同时，你也可以在脚本内部设置断点，这样就可以在某些特定点查看变量信息和各种执行时信息了。这里将使用pdb.set_trace()方法来实现。举个例子："
   ]
  },
  {
   "cell_type": "code",
   "execution_count": 4,
   "metadata": {},
   "outputs": [],
   "source": [
    "import pdb\n",
    "\n",
    "def make_bread():\n",
    "    pdb.set_trace()\n",
    "    return \"I don't have time\"\n",
    "\n",
    "# print(make_bread())"
   ]
  },
  {
   "cell_type": "markdown",
   "metadata": {},
   "source": [
    " 命令列表：\n",
    "        c: 继续执行\n",
    "        w: 显示当前正在执行的代码行的上下文信息\n",
    "        a: 打印当前函数的参数列表\n",
    "        s: 执行当前代码行，并停在第一个能停的地方（相当于单步进入）\n",
    "        n: 继续执行到当前函数的下一行，或者当前行直接返回（单步跳过）\n",
    "        单步跳过（next）和单步进入（step）的区别在于， 单步进入会进入当前行调用的函数内部并停在里面， 而单步跳过会（几乎）全速执行完当前行调用的函数，并停在当前函数的下一行。\n",
    "        pdb真的是一个很方便的功能，上面仅列举少量用法，更多的命令强烈推荐你去看官方文档。"
   ]
  },
  {
   "cell_type": "markdown",
   "metadata": {},
   "source": [
    "## Generators\n",
    "        首先我们要理解迭代器(iterators)。根据维基百科，迭代器是一个让程序员可以遍历一个容器（特别是列表）的对象。然而，一个迭代器在遍历并读取一个容器的数据元素时，并不会执行一个迭代。你可能有点晕了，那我们来个慢动作。换句话说这里有三个部分：\n",
    "        可迭代对象(Iterable)\n",
    "        迭代器(Iterator)\n",
    "        迭代(Iteration)\n",
    "        上面这些部分互相联系。我们会先各个击破来讨论他们，然后再讨论生成器(generators).\n",
    "### 可迭代对象(Iterable)\n",
    "        Python中任意的对象，只要它定义了可以返回一个迭代器的__iter__方法，或者定义了可以支持下标索引的__getitem__方法(这些双下划线方法会在其他章节中全面解释)，那么它就是一个可迭代对象。简单说，可迭代对象就是能提供迭代器的任意对象。那迭代器又是什么呢？iterator = iter(iterable)\n",
    "### 迭代器(Iterator)\n",
    "        任意对象，只要定义了next(Python2) 或者__next__方法，它就是一个迭代器。就这么简单。现在我们来理解迭代(iteration)。用next取值或者for循环。\n",
    "### 迭代(Iteration)\n",
    "        用简单的话讲，它就是从某个地方（比如一个列表）取出一个元素的过程。当我们使用一个循环来遍历某个东西时，这个过程本身就叫迭代。现在既然我们有了这些术语的基本理解，那我们开始理解生成器吧。\n",
    "### 生成器(Gneration)\n",
    "        生成器也是一种迭代器，但是你只能对其迭代一次。这是因为它们并没有把所有的值存在内存中，而是在运行时生成值。你通过遍历来使用它们，要么用一个“for”循环，要么将它们传递给任意可以进行迭代的函数和结构。大多数时候生成器是以函数来实现的。然而，它们并不返回一个值，而是yield(暂且译作“生出”)一个值。这里有个生成器函数的简单例子："
   ]
  },
  {
   "cell_type": "code",
   "execution_count": 5,
   "metadata": {},
   "outputs": [
    {
     "name": "stdout",
     "output_type": "stream",
     "text": [
      "0\n",
      "1\n",
      "2\n",
      "3\n"
     ]
    }
   ],
   "source": [
    "def generator_function():\n",
    "    for i in range(4):\n",
    "        yield i\n",
    "\n",
    "for item in generator_function():\n",
    "    print(item)\n",
    "    "
   ]
  },
  {
   "cell_type": "markdown",
   "metadata": {},
   "source": [
    "        这个案例并不是非常实用。生成器最佳应用场景是：你不想同一时间将所有计算出来的大量结果集分配到内存当中，特别是结果集里还包含循环。\n",
    "        许多Python 2里的标准库函数都会返回列表，而Python 3都修改成了返回生成器，因为生成器占用更少的资源。\n",
    "        下面是一个计算斐波那契数列的生成器："
   ]
  },
  {
   "cell_type": "code",
   "execution_count": 6,
   "metadata": {},
   "outputs": [
    {
     "name": "stdout",
     "output_type": "stream",
     "text": [
      "1\n",
      "1\n",
      "2\n",
      "3\n",
      "5\n",
      "8\n",
      "13\n",
      "21\n",
      "34\n",
      "55\n"
     ]
    }
   ],
   "source": [
    "def fibo(n):\n",
    "    a = b =1\n",
    "    for i in range(n):\n",
    "        yield a\n",
    "        a, b = b, a+b\n",
    "\n",
    "for x in fibo(10):\n",
    "    print(x)"
   ]
  },
  {
   "cell_type": "markdown",
   "metadata": {},
   "source": [
    "        用这种方式，我们可以不用担心它会使用大量资源。然而，之前如果我们这样来实现的话："
   ]
  },
  {
   "cell_type": "markdown",
   "metadata": {},
   "source": [
    "def fibon(n):\n",
    "    a = b = 1\n",
    "    result = []\n",
    "    for i in range(n):\n",
    "        result.append(a)\n",
    "        a, b = b, a + b\n",
    "    return result\n",
    "    \n",
    "        这也许会在计算很大的输入参数时，用尽所有的资源。我们已经讨论过生成器使用一次迭代，但我们并没有测试过。在测试前你需要再知道一个Python内置函数：next()。它允许我们获取一个序列的下一个元素。那我们来验证下我们的理解："
   ]
  },
  {
   "cell_type": "code",
   "execution_count": 7,
   "metadata": {},
   "outputs": [
    {
     "name": "stdout",
     "output_type": "stream",
     "text": [
      "0\n",
      "1\n",
      "2\n",
      "3\n"
     ]
    },
    {
     "ename": "StopIteration",
     "evalue": "",
     "output_type": "error",
     "traceback": [
      "\u001b[0;31m---------------------------------------------------------------------------\u001b[0m",
      "\u001b[0;31mStopIteration\u001b[0m                             Traceback (most recent call last)",
      "\u001b[0;32m<ipython-input-7-d47c4c2bd026>\u001b[0m in \u001b[0;36m<module>\u001b[0;34m()\u001b[0m\n\u001b[1;32m      4\u001b[0m \u001b[0mprint\u001b[0m\u001b[0;34m(\u001b[0m\u001b[0mnext\u001b[0m\u001b[0;34m(\u001b[0m\u001b[0mgen\u001b[0m\u001b[0;34m)\u001b[0m\u001b[0;34m)\u001b[0m\u001b[0;34m\u001b[0m\u001b[0m\n\u001b[1;32m      5\u001b[0m \u001b[0mprint\u001b[0m\u001b[0;34m(\u001b[0m\u001b[0mnext\u001b[0m\u001b[0;34m(\u001b[0m\u001b[0mgen\u001b[0m\u001b[0;34m)\u001b[0m\u001b[0;34m)\u001b[0m\u001b[0;34m\u001b[0m\u001b[0m\n\u001b[0;32m----> 6\u001b[0;31m \u001b[0mprint\u001b[0m\u001b[0;34m(\u001b[0m\u001b[0mnext\u001b[0m\u001b[0;34m(\u001b[0m\u001b[0mgen\u001b[0m\u001b[0;34m)\u001b[0m\u001b[0;34m)\u001b[0m\u001b[0;34m\u001b[0m\u001b[0m\n\u001b[0m",
      "\u001b[0;31mStopIteration\u001b[0m: "
     ]
    }
   ],
   "source": [
    "gen = generator_function()\n",
    "print(next(gen))\n",
    "print(next(gen))\n",
    "print(next(gen))\n",
    "print(next(gen))\n",
    "print(next(gen))"
   ]
  },
  {
   "cell_type": "markdown",
   "metadata": {},
   "source": [
    "        我们可以看到，在yield掉所有的值后，next()触发了一个StopIteration的异常。基本上这个异常告诉我们，所有的值都已经被yield完了。你也许会奇怪，为什么我们在使用for循环时没有这个异常呢？啊哈，答案很简单。for循环会自动捕捉到这个异常并停止调用next()。你知不知道Python中一些内置数据类型也支持迭代哦？我们这就去看看："
   ]
  },
  {
   "cell_type": "code",
   "execution_count": null,
   "metadata": {},
   "outputs": [],
   "source": [
    "str = \"sierkinhane\"\n",
    "next(str)"
   ]
  },
  {
   "cell_type": "markdown",
   "metadata": {},
   "source": [
    "        好吧，这不是我们预期的。这个异常说那个str对象不是一个迭代器。对，就是这样！它是一个可迭代对象，而不是一个迭代器。这意味着它支持迭代，但我们不能直接对其进行迭代操作。那我们怎样才能对它实施迭代呢？是时候学习下另一个内置函数，iter。它将根据一个可迭代对象返回一个迭代器对象。这里是我们如何使用它："
   ]
  },
  {
   "cell_type": "code",
   "execution_count": null,
   "metadata": {},
   "outputs": [],
   "source": [
    "str = \"sierkinhane\"\n",
    "my_iter = iter(str)\n",
    "print(next(my_iter))\n",
    "print(next(my_iter))\n",
    "print(next(my_iter))"
   ]
  },
  {
   "cell_type": "markdown",
   "metadata": {},
   "source": [
    "## Map, Filter 和 Reduce\n",
    "        Map，Filter 和 Reduce 三个函数能为函数式编程提供便利。\n",
    "### Map\n",
    "        Map会将一个函数映射到一个输入列表的所有元素上。这是它的规范：\n",
    "        规范\n",
    "        map(function_to_apply, list_of_inputs)\n",
    "        大多数时候，我们要把列表中所有元素一个个地传递给一个函数，并收集输出。比方说："
   ]
  },
  {
   "cell_type": "code",
   "execution_count": null,
   "metadata": {},
   "outputs": [],
   "source": [
    "items = [1, 2, 3 , 4, 5]\n",
    "squared = []\n",
    "for i in items:\n",
    "    squared.append(i**2)\n",
    "print(squared)\n",
    "\n",
    "# Map可以让我们用一种简单而漂亮得多的方式来实现。就是这样：\n",
    "squared = list(map(lambda x: x**3, items)) # 返回一个迭代器\n",
    "print(squared)"
   ]
  },
  {
   "cell_type": "markdown",
   "metadata": {},
   "source": [
    "        大多数时候，我们使用匿名函数(lambdas)来配合map, 所以我在上面也是这么做的。 不仅用于一列表的输入， 我们甚至可以用于一列表的函数！"
   ]
  },
  {
   "cell_type": "code",
   "execution_count": null,
   "metadata": {},
   "outputs": [],
   "source": [
    "def multiply(x):\n",
    "    return x*x\n",
    "\n",
    "def add(x):\n",
    "    return x+x\n",
    "\n",
    "funcs = [multiply, add]\n",
    "for i in range(5):\n",
    "    value = map(lambda x:x(i), funcs) # x(i)函数调用，参数为i\n",
    "    print(list(value))"
   ]
  },
  {
   "cell_type": "markdown",
   "metadata": {},
   "source": [
    "### Filter\n",
    "        顾名思义，filter过滤列表中的元素，并且返回一个由所有符合要求的元素所构成的列表，符合要求即函数映射到该元素时返回值为True. 这里是一个简短的例子："
   ]
  },
  {
   "cell_type": "code",
   "execution_count": null,
   "metadata": {},
   "outputs": [],
   "source": [
    "number_list = range(-5, 5)\n",
    "less_than_zero = filter(lambda x: x < 0, number_list)\n",
    "# print(list(less_than_zero))\n",
    "print(next(less_than_zero))\n",
    "print(next(less_than_zero))"
   ]
  },
  {
   "cell_type": "markdown",
   "metadata": {},
   "source": [
    "        这个filter类似于一个for循环，但它是一个内置函数，并且更快。\n",
    "        注意：如果map和filter对你来说看起来并不优雅的话，那么你可以看看另外一章：列表/字典/元组推导式。"
   ]
  },
  {
   "cell_type": "markdown",
   "metadata": {},
   "source": [
    "### Reduce\n",
    "        当需要对一个列表进行一些计算并返回结果时，Reduce 是个非常有用的函数。举个例子，当你需要计算一个整数列表的乘积时。\n",
    "    通常在 python 中你可能会使用基本的 for 循环来完成这个任务。\n",
    "    现在我们来试试 reduce："
   ]
  },
  {
   "cell_type": "code",
   "execution_count": null,
   "metadata": {},
   "outputs": [],
   "source": [
    "from functools import reduce\n",
    "product = reduce(lambda x, y: x*y, [1, 2, 3, 4])\n",
    "print(product)"
   ]
  },
  {
   "cell_type": "markdown",
   "metadata": {},
   "source": [
    "### Set数据结构"
   ]
  },
  {
   "cell_type": "code",
   "execution_count": null,
   "metadata": {},
   "outputs": [],
   "source": [
    "some_list =['a', 'b', 'c', 'b', 'd', 'm', 'n', 'n']\n",
    "duplicates = []\n",
    "for value in some_list:\n",
    "    if some_list.count(value) > 1:\n",
    "        if value not in duplicates:\n",
    "            duplicates.append(value)\n",
    "print(duplicates)\n",
    "\n",
    "duplicates = []\n",
    "duplicates = set([value for value in some_list if some_list.count(value) > 1])\n",
    "print(duplicates)"
   ]
  },
  {
   "cell_type": "markdown",
   "metadata": {},
   "source": [
    "        交集：input_set.intersection(valid)\n",
    "        差集：input_set.difference(valid)"
   ]
  },
  {
   "cell_type": "markdown",
   "metadata": {},
   "source": [
    "## Decorates\n",
    "        装饰器(Decorators)是Python的一个重要部分。简单地说：他们是修改其他函数的功能的函数。他们有助于让我们的代码更简短，也更Pythonic（Python范儿）。大多数初学者不知道在哪儿使用它们，所以我将要分享下，哪些区域里装饰器可以让你的代码更简洁。\n",
    "### 一切皆对象\n",
    "        首先我们来理解python中的函数"
   ]
  },
  {
   "cell_type": "code",
   "execution_count": null,
   "metadata": {},
   "outputs": [],
   "source": [
    "def hi(name=\"sierkinhane\"):\n",
    "    return \"hi \" + name\n",
    "\n",
    "print(hi())\n",
    "# 我们甚至可以将一个函数赋值给一个变量，比如：\n",
    "greet = hi \n",
    "print(greet())\n",
    "\n",
    "del hi \n",
    "# print(hi())\n",
    "print(greet())"
   ]
  },
  {
   "cell_type": "markdown",
   "metadata": {},
   "source": [
    "### 函数中定义函数\n",
    "        刚才那些就是函数的基本知识了。我们来让你的知识更进一步。在Python中我们可以在一个函数中定义另一个函数："
   ]
  },
  {
   "cell_type": "code",
   "execution_count": null,
   "metadata": {},
   "outputs": [],
   "source": [
    "def hi(name=\"sierkinhane\"):\n",
    "    \n",
    "    def greet():\n",
    "        return \"now you are in the greet function\"\n",
    "    def welcome():\n",
    "        return \"now you are in the welcome function\"\n",
    "    \n",
    "    print(greet())\n",
    "    print(welcome())\n",
    "    \n",
    "hi()\n",
    "\n",
    "# greet()\n",
    "#outputs: NameError: name 'greet' is not defined"
   ]
  },
  {
   "cell_type": "markdown",
   "metadata": {},
   "source": [
    "        那现在我们知道了可以在函数中定义另外的函数。也就是说：我们可以创建嵌套的函数。现在你需要再多学一点，就是函数也能返回函数。"
   ]
  },
  {
   "cell_type": "markdown",
   "metadata": {},
   "source": [
    "## 从函数中返回函数\n",
    "        其实并不需要在一个函数里去执行另一个函数，我们也可以将其作为输出返回出来："
   ]
  },
  {
   "cell_type": "code",
   "execution_count": null,
   "metadata": {},
   "outputs": [],
   "source": [
    "def hi(name=\"sierkinhane\"):\n",
    "    \n",
    "    def greet():\n",
    "        return \"now you are in the greet function\"\n",
    "    def welcome():\n",
    "        return \"now you are in the welcome function\"\n",
    "    \n",
    "    if name==\"sierkinhane\":\n",
    "        return greet\n",
    "    else:\n",
    "        return welcome\n",
    "    \n",
    "a = hi()\n",
    "a()"
   ]
  },
  {
   "cell_type": "markdown",
   "metadata": {},
   "source": [
    "### 将函数作为参数传给另一个函数"
   ]
  },
  {
   "cell_type": "code",
   "execution_count": null,
   "metadata": {},
   "outputs": [],
   "source": [
    "def hi():\n",
    "    return \"hi seirkinhane\"\n",
    "\n",
    "def doSomethingBeforeHi(func):\n",
    "    print(\"before hi\")\n",
    "    print(func())\n",
    "    \n",
    "doSomethingBeforeHi(hi)"
   ]
  },
  {
   "cell_type": "markdown",
   "metadata": {},
   "source": [
    "        现在你已经具备所有必需知识，来进一步学习装饰器真正是什么了。装饰器让你在一个函数的前后去执行代码。\n",
    "### 你的第一个装饰器\n",
    "        在上一个例子里，其实我们已经创建了一个装饰器！现在我们修改下上一个装饰器，并编写一个稍微更有用点的程序："
   ]
  },
  {
   "cell_type": "code",
   "execution_count": null,
   "metadata": {},
   "outputs": [],
   "source": [
    "def a_new_decorator(func):\n",
    "    def wrapTheFunction():\n",
    "        print(\"before\")\n",
    "        func()\n",
    "        print(\"after\")\n",
    "        \n",
    "    return wrapTheFunction\n",
    "\n",
    "def function():\n",
    "    print(\"a function which needs some decorations\")\n",
    "    \n",
    "function = a_new_decorator(function)\n",
    "function()"
   ]
  },
  {
   "cell_type": "markdown",
   "metadata": {},
   "source": [
    "        你看明白了吗？我们刚刚应用了之前学习到的原理。这正是python中装饰器做的事情！它们封装一个函数，并且用这样或者那样的方式来修改它的行为。现在你也许疑惑，我们在代码里并没有使用@符号？那只是一个简短的方式来生成一个被装饰的函数。这里是我们如何使用@来运行之前的代码："
   ]
  },
  {
   "cell_type": "code",
   "execution_count": null,
   "metadata": {},
   "outputs": [],
   "source": [
    "@a_new_decorator\n",
    "def function():\n",
    "    print(\"a function which needs some decorations\")\n",
    "    \n",
    "function()"
   ]
  },
  {
   "cell_type": "markdown",
   "metadata": {},
   "source": [
    "        希望你现在对Python装饰器的工作原理有一个基本的理解。如果我们运行如下代码会存在一个问题："
   ]
  },
  {
   "cell_type": "code",
   "execution_count": null,
   "metadata": {},
   "outputs": [],
   "source": [
    "print(function.__name__)"
   ]
  },
  {
   "cell_type": "markdown",
   "metadata": {},
   "source": [
    "        这并不是我们想要的！Ouput输出应该是“a_function_requiring_decoration”。这里的函数被warpTheFunction替代了。它重写了我们函数的名字和注释文档(docstring)。幸运的是Python提供给我们一个简单的函数来解决这个问题，那就是functools.wraps。我们修改上一个例子来使用functools.wraps："
   ]
  },
  {
   "cell_type": "code",
   "execution_count": null,
   "metadata": {},
   "outputs": [],
   "source": [
    "from functools import wraps\n",
    "\n",
    "def a_new_decorator(func):\n",
    "    @wraps(func)\n",
    "    def wrapTheFunction():\n",
    "        print(\"before\")\n",
    "        func()\n",
    "        print(\"after\")\n",
    "        \n",
    "    return wrapTheFunction\n",
    "\n",
    "@a_new_decorator\n",
    "def function():\n",
    "    print(\"a function which needs some decorations\")\n",
    "\n",
    "function()\n",
    "print(function.__name__)"
   ]
  },
  {
   "cell_type": "markdown",
   "metadata": {},
   "source": [
    "        蓝本规范："
   ]
  },
  {
   "cell_type": "code",
   "execution_count": null,
   "metadata": {},
   "outputs": [],
   "source": [
    "from functools import wraps\n",
    "def decorator_name(f):\n",
    "    @wraps(f)\n",
    "    def decorated(*args, **kwargs):\n",
    "        if not can_run:\n",
    "            return \"Function will not run\"\n",
    "        return f(*args, **kwargs)\n",
    "    return decorated\n",
    "\n",
    "@decorator_name\n",
    "def func():\n",
    "    return(\"Function is running\")\n",
    "\n",
    "can_run = True\n",
    "print(func())\n",
    "# Output: Function is running\n",
    "\n",
    "can_run = False\n",
    "print(func())\n",
    "# Output: Function will not run"
   ]
  },
  {
   "cell_type": "markdown",
   "metadata": {},
   "source": [
    "        注意：@wraps接受一个函数来进行装饰，并加入了复制函数名称、注释文档、参数列表等等的功能。这可以让我们在装饰器里面访问在装饰之前的函数的属性。"
   ]
  },
  {
   "cell_type": "markdown",
   "metadata": {},
   "source": [
    "### 使用场景\n",
    "#### 授权\n",
    "        装饰器能有助于检查某个人是否被授权去使用一个web应用的端点(endpoint)。它们被大量使用于Flask和Django web框架中。这里是一个例子来使用基于装饰器的授权："
   ]
  },
  {
   "cell_type": "code",
   "execution_count": null,
   "metadata": {},
   "outputs": [],
   "source": [
    "# def requires_auth(f):\n",
    "#     @wraps(f)\n",
    "#     def decorated(*arg, **kwargs):\n",
    "#         auth = request.authorization\n",
    "#         if not auth or not check_auth(auth.username, auth.password):\n",
    "#             authenticate()\n",
    "#         return f(*args, **kwargs)\n",
    "#     return decorated"
   ]
  },
  {
   "cell_type": "markdown",
   "metadata": {},
   "source": [
    "#### 日志"
   ]
  },
  {
   "cell_type": "code",
   "execution_count": null,
   "metadata": {},
   "outputs": [],
   "source": [
    "def logit(func):\n",
    "    print('1')\n",
    "    @wraps(func)\n",
    "    def with_logging(*args, **kwargs):\n",
    "        print(func.__name__+\" was called\")\n",
    "        print('2')\n",
    "        return func(*args, **kwargs)\n",
    "    print('3')\n",
    "    return with_logging\n",
    "\n",
    "@logit\n",
    "def add_(x):\n",
    "    print('4')\n",
    "    return x+x \n",
    "\n",
    "# result = add_(2) == logit(func)(*args, **kwargs)"
   ]
  },
  {
   "cell_type": "code",
   "execution_count": null,
   "metadata": {},
   "outputs": [],
   "source": [
    "from functools import wraps\n",
    "\n",
    "def logit(logfile='out.log'):\n",
    "    def logging_decorator(func):\n",
    "        @wraps(func)\n",
    "        def wrapped_function(*args, **kwargs):\n",
    "            log_string = func.__name__ + \" was called\"\n",
    "            print(log_string)\n",
    "            # 打开logfile，并写入内容\n",
    "            with open(logfile, 'a') as opened_file:\n",
    "                # 现在将日志打到指定的logfile\n",
    "                opened_file.write(log_string + '\\n')\n",
    "            return func(*args, **kwargs)\n",
    "        return wrapped_function\n",
    "    return logging_decorator\n",
    "\n",
    "@logit()\n",
    "def myfunc1():\n",
    "    pass\n",
    "\n",
    "myfunc1() # == logit()(func)(*args, **kwargs)\n",
    "# Output: myfunc1 was called\n",
    "# 现在一个叫做 out.log 的文件出现了，里面的内容就是上面的字符串\n",
    "\n",
    "@logit(logfile='func2.log')\n",
    "def myfunc2():\n",
    "    pass\n",
    "\n",
    "myfunc2()\n",
    "# Output: myfunc2 was called\n",
    "# 现在一个叫做 func2.log 的文件出现了，里面的内容就是上面的字符串"
   ]
  },
  {
   "cell_type": "markdown",
   "metadata": {},
   "source": [
    "## 装饰器类\n",
    "        现在我们有了能用于正式环境的logit装饰器，但当我们的应用的某些部分还比较脆弱时，异常也许是需要更紧急关注的事情。比方说有时你只想打日志到一个文件。而有时你想把引起你注意的问题发送到一个email，同时也保留日志，留个记录。这是一个使用继承的场景，但目前为止我们只看到过用来构建装饰器的函数。\n",
    "        幸运的是，类也可以用来构建装饰器。那我们现在以一个类而不是一个函数的方式，来重新构建logit。"
   ]
  },
  {
   "cell_type": "code",
   "execution_count": null,
   "metadata": {},
   "outputs": [],
   "source": [
    "class logit(object):\n",
    "\n",
    "    _logfile = 'out.log'\n",
    "\n",
    "    def __init__(self, func):\n",
    "        self.func = func\n",
    "\n",
    "    def __call__(self, *args):\n",
    "        log_string = self.func.__name__ + \" was called\"\n",
    "        print(log_string)\n",
    "        # Open the logfile and append\n",
    "        with open(self._logfile, 'a') as opened_file:\n",
    "            # Now we log to the specified logfile\n",
    "            opened_file.write(log_string + '\\n')\n",
    "        # Now, send a notification\n",
    "        self.notify()\n",
    "\n",
    "        # return base func\n",
    "        return self.func(*args)\n",
    "\n",
    "\n",
    "\n",
    "    def notify(self):\n",
    "        # logit only logs, no more\n",
    "        pass\n",
    "    \n",
    "@logit\n",
    "def myfunc1():\n",
    "    pass\n",
    "\n",
    "myfunc1()"
   ]
  },
  {
   "cell_type": "markdown",
   "metadata": {},
   "source": [
    "        现在，我们给logit创建子类，来添加email的功能(虽然email这个话题不会在这里展开)。"
   ]
  },
  {
   "cell_type": "code",
   "execution_count": null,
   "metadata": {},
   "outputs": [],
   "source": [
    "class email_logit(logit):\n",
    "    '''\n",
    "    一个logit的实现版本，可以在函数调用时发送email给管理员\n",
    "    '''\n",
    "    def __init__(self, email='admin@myproject.com', *args, **kwargs):\n",
    "        self.email = email\n",
    "        super(email_logit, self).__init__(*args, **kwargs)\n",
    "\n",
    "    def notify(self):\n",
    "        # 发送一封email到self.email\n",
    "        # 这里就不做实现了\n",
    "        pass"
   ]
  },
  {
   "cell_type": "markdown",
   "metadata": {},
   "source": [
    "## 递归函数\n",
    "        如果一个函数在内部调用自身本身，这个函数就是递归函数。\n",
    "        1. 例子：计算n！"
   ]
  },
  {
   "cell_type": "code",
   "execution_count": 9,
   "metadata": {},
   "outputs": [
    {
     "data": {
      "text/plain": [
       "3628800"
      ]
     },
     "execution_count": 9,
     "metadata": {},
     "output_type": "execute_result"
    }
   ],
   "source": [
    "def factorial(n):\n",
    "    if n==1:\n",
    "        return 1\n",
    "    return n*factorial(n-1)\n",
    "\n",
    "factorial(10)"
   ]
  },
  {
   "cell_type": "markdown",
   "metadata": {},
   "source": [
    "        递归函数的优点是定义简单，逻辑清晰。理论上，所有的递归函数都可以写成循环的方式，但循环的逻辑不如递归清晰。\n",
    "        使用递归函数需要注意防止栈溢出。在计算机中，函数调用是通过栈（stack）这种数据结构实现的，每当进入一个函数调用，栈就会加一层栈帧，每当函数返回，栈就会减一层栈帧。由于栈的大小不是无限的，所以，递归调用的次数过多，会导致栈溢出。可以试试fact(1000)。\n",
    "        解决递归调用栈溢出的方法是通过尾递归优化，事实上尾递归和循环的效果是一样的，所以，把循环看成是一种特殊的尾递归函数也是可以的。\n",
    "        尾递归是指，在函数返回的时候，调用自身本身，并且，return语句不能包含表达式。这样，编译器或者解释器就可以把尾递归做优化，使递归本身无论调用多少次，都只占用一个栈帧，不会出现栈溢出的情况。\n",
    "        上面的fact(n)函数由于return n * fact(n - 1)引入了乘法表达式，所以就不是尾递归了。要改成尾递归方式，需要多一点代码，主要是要把每一步的乘积传入到递归函数中："
   ]
  },
  {
   "cell_type": "code",
   "execution_count": 13,
   "metadata": {},
   "outputs": [
    {
     "data": {
      "text/plain": [
       "240"
      ]
     },
     "execution_count": 13,
     "metadata": {},
     "output_type": "execute_result"
    }
   ],
   "source": [
    "def factorial_iter(num, product):\n",
    "    if num==1:\n",
    "        return product\n",
    "    return factorial_iter(num-1, num*product)\n",
    "\n",
    "factorial_iter(5, 1)\n"
   ]
  },
  {
   "cell_type": "markdown",
   "metadata": {},
   "source": [
    "        尾递归调用时，如果做了优化，栈不会增长，因此，无论多少次调用也不会导致栈溢出。\n",
    "        遗憾的是，大多数编程语言没有针对尾递归做优化，Python解释器也没有做优化，所以，即使把上面的fact(n)函数改成尾递归方式，也会导致栈溢出。\n",
    "        \n",
    "        2. 汉诺塔：\n",
    "        解法的基本思想是递归。假设有 A、B、C 三个塔，A 塔有 N 块盘，目标是把这些盘全部移到 C 塔。\n",
    "            1)  将A 塔顶部的 N−1块盘移动到 B 塔，再把 A 塔剩下的大盘移到 C，最后把 B 塔的 N−1 块盘移到 C(递归)。\n",
    "                    1* 如何将B塔的N-1块盘移到C？(继续递归)\n",
    "            2)  如何将A塔顶部的N-1块盘移动到B塔呢？\n",
    "                    将A塔顶部的N-2块盘移动到C塔，再把A塔上的第N-1块盘移到B，再将C塔的N-2块盘移动到B(递归)。\n",
    "                    2* 如何将C塔的N-1块盘移到C？(继续递归)\n",
    "            3)  如何将A塔顶部的N-2块盘移动到C塔呢？\n",
    "                    将A塔顶部的N-3块盘移动到B塔，再把A塔上的第N-2块盘移到C，再将B塔的N-3块盘移动到C(递归)。\n",
    "                    3* 如何将B塔的N-1块盘移到C？(继续递归)\n",
    "            ....\n",
    "            N) ...\n",
    "            \n",
    "         设N=3，代入上面算法：\n",
    "            1)  (move(2, x, x, x))将A 塔顶部的 3−1块盘移动到 B 塔，再把 A 塔的第3块盘移到 C(④ A==>C)，最后把 B 塔的 3−1 块盘移到 C(包含递归)。\n",
    "                  1* 如何将B 塔的 3−1 块盘移到 C呢？\n",
    "                          (move(1, x, x, x)) ⑤ B==>A  ⑥ B==>C  ⑦ A==>C\n",
    "            2)  如何将A塔顶部的3-1块盘移动到B塔呢？\n",
    "                          (move(1, x, x, x)) ① A==>C  ② A==>B  ③ C==>B\n",
    "                          \n",
    "         汉诺塔递归原理就是一个二叉树遍历：\n",
    "                                                                                                                 \n",
    "            "
   ]
  },
  {
   "cell_type": "code",
   "execution_count": 2,
   "metadata": {},
   "outputs": [
    {
     "data": {
      "image/png": "[encoded data removed]",
      "text/plain": [
       "<IPython.core.display.Image object>"
      ]
     },
     "execution_count": 2,
     "metadata": {
      "image/png": {
       "height": 400,
       "width": 400
      }
     },
     "output_type": "execute_result"
    }
   ],
   "source": [
    "from IPython.display import Image\n",
    "Image(filename=\"./images/hanoi_tree.png\",  width=400, height=400)"
   ]
  },
  {
   "cell_type": "code",
   "execution_count": 28,
   "metadata": {},
   "outputs": [
    {
     "name": "stdout",
     "output_type": "stream",
     "text": [
      "move A --> C\n",
      "move A --> B\n",
      "move C --> B\n",
      "move A --> C\n",
      "move B --> A\n",
      "move B --> C\n",
      "move A --> C\n"
     ]
    }
   ],
   "source": [
    "def move(n, a, b, c): # n为a柱子中盘子的数量，目标是借助b将a中的盘子移至c中。\n",
    "    if n == 1:\n",
    "        print('move', a, '-->', c)\n",
    "    else:\n",
    "        move(n-1, a, c, b)\n",
    "        move(1, a, b, c)\n",
    "        move(n-1, b, a, c)\n",
    "\n",
    "move(3, 'A', 'B', 'C')"
   ]
  },
  {
   "cell_type": "code",
   "execution_count": 26,
   "metadata": {},
   "outputs": [
    {
     "name": "stdout",
     "output_type": "stream",
     "text": [
      "A  ==>  C\n",
      "A  ==>  B\n",
      "C  ==>  B\n",
      "A  ==>  C\n",
      "B  ==>  A\n",
      "B  ==>  C\n",
      "A  ==>  C\n"
     ]
    }
   ],
   "source": [
    "def hanoi(n, a, b, c):\n",
    "    if n==1:\n",
    "        print(a, \" ==> \",  c)\n",
    "    else:\n",
    "        hanoi(n-1, a, c, b)   # 将n-1个盘子移到b\n",
    "        print(a, \" ==> \", c) # 将第n个盘子移动到c\n",
    "        hanoi(n-1, b, a, c)  # 将n-1个盘子移动到c\n",
    "\n",
    "hanoi(3, 'A', 'B', 'C')"
   ]
  },
  {
   "cell_type": "code",
   "execution_count": null,
   "metadata": {},
   "outputs": [],
   "source": []
  },
  {
   "cell_type": "code",
   "execution_count": null,
   "metadata": {},
   "outputs": [],
   "source": []
  }
 ],
 "metadata": {
  "kernelspec": {
   "display_name": "Python 3",
   "language": "python",
   "name": "python3"
  },
  "language_info": {
   "codemirror_mode": {
    "name": "ipython",
    "version": 3
   },
   "file_extension": ".py",
   "mimetype": "text/x-python",
   "name": "python",
   "nbconvert_exporter": "python",
   "pygments_lexer": "ipython3",
   "version": "3.7.5"
  },
  "toc": {
   "base_numbering": 1,
   "nav_menu": {},
   "number_sections": true,
   "sideBar": true,
   "skip_h1_title": false,
   "title_cell": "Table of Contents",
   "title_sidebar": "Contents",
   "toc_cell": false,
   "toc_position": {},
   "toc_section_display": true,
   "toc_window_display": true
  }
 },
 "nbformat": 4,
 "nbformat_minor": 2
}
